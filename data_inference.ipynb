{
 "cells": [
  {
   "cell_type": "markdown",
   "metadata": {},
   "source": [
    "================================================================================================\n",
    "\n",
    "Program ini dibuat untuk melakukan clustering inference data menggunakan model yang sebelumnya sudah dibuat dan disimpan. \n",
    "\n",
    "================================================================================================"
   ]
  },
  {
   "cell_type": "code",
   "execution_count": 1,
   "metadata": {},
   "outputs": [],
   "source": [
    "# Dataframe and Data Manipulation library\n",
    "import pandas as pd\n",
    "import numpy as np\n",
    "\n",
    "# Save Model\n",
    "import json\n",
    "import pickle"
   ]
  },
  {
   "cell_type": "code",
   "execution_count": 2,
   "metadata": {},
   "outputs": [],
   "source": [
    "# Load Files\n",
    "with open('list_num_col.txt', 'r') as file_1:\n",
    "    num_col = json.load(file_1)\n",
    "\n",
    "with open('scaler.pkl', 'rb') as file_2:\n",
    "    scaler = pickle.load(file_2)\n",
    "\n",
    "with open('pca.pkl', 'rb') as file_3:\n",
    "    pca = pickle.load(file_3)\n",
    "\n",
    "with open('kmeans.pkl', 'rb') as file_4:\n",
    "    km2 = pickle.load(file_4)"
   ]
  },
  {
   "cell_type": "code",
   "execution_count": 3,
   "metadata": {},
   "outputs": [
    {
     "name": "stdout",
     "output_type": "stream",
     "text": [
      "Predicted Cluster: 1\n"
     ]
    }
   ],
   "source": [
    "# Sample data untuk inference\n",
    "new_data = pd.DataFrame({\n",
    "    'CUST_ID': [9899],\n",
    "    'BALANCE': [1350],\n",
    "    'PURCHASES': [750],\n",
    "    'ONEOFF_PURCHASES': [250],\n",
    "    'INSTALLMENTS_PURCHASES': [400],\n",
    "    'CASH_ADVANCE': [150],\n",
    "    'CASH_ADVANCE_FREQUENCY': [0.1],\n",
    "    'CASH_ADVANCE_TRX': [10],\n",
    "    'PURCHASES_TRX': [17],\n",
    "    'CREDIT_LIMIT': [5000],\n",
    "    'PAYMENTS': [1100],\n",
    "    'MINIMUM_PAYMENTS': [523.78],\n",
    "    'PRC_FULL_PAYMENT': [0.6],\n",
    "    'BALANCE_FREQUENCY': [0.93],\n",
    "    'PURCHASES_FREQUENCY': [0.32],\n",
    "    'ONEOFF_PURCHASES_FREQUENCY': [0.30],\n",
    "    'PURCHASES_INSTALLMENTS_FREQUENCY': [0.15],\n",
    "    'TENURE': [12]\n",
    "})\n",
    "\n",
    "# Preprocessing\n",
    "new_data_scaled = scaler.transform(new_data[num_col])\n",
    "new_data_pca = pca.transform(new_data_scaled)\n",
    "\n",
    "# Predict Cluster\n",
    "cluster = km2.predict(new_data_pca)\n",
    "\n",
    "print(\"Predicted Cluster:\", cluster[0])"
   ]
  }
 ],
 "metadata": {
  "kernelspec": {
   "display_name": "phase1",
   "language": "python",
   "name": "python3"
  },
  "language_info": {
   "codemirror_mode": {
    "name": "ipython",
    "version": 3
   },
   "file_extension": ".py",
   "mimetype": "text/x-python",
   "name": "python",
   "nbconvert_exporter": "python",
   "pygments_lexer": "ipython3",
   "version": "3.10.14"
  }
 },
 "nbformat": 4,
 "nbformat_minor": 2
}
